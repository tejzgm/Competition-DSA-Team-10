{
 "cells": [
  {
   "cell_type": "markdown",
   "id": "2099d4fe",
   "metadata": {},
   "source": [
    "Domain:E-Commerce"
   ]
  },
  {
   "cell_type": "markdown",
   "id": "9021fd29",
   "metadata": {},
   "source": [
    "Problem Statement:Designing a model to predict the purchase rate according to the gender in myntra store"
   ]
  },
  {
   "cell_type": "code",
   "execution_count": null,
   "id": "6349bfbb",
   "metadata": {},
   "outputs": [],
   "source": [
    "contributors:Thejaswini G M\n",
    "            Pavithra D Naick\n",
    "            Seethal P V\n"
   ]
  },
  {
   "cell_type": "markdown",
   "id": "68080a34",
   "metadata": {},
   "source": [
    "Importing required libraries"
   ]
  },
  {
   "cell_type": "code",
   "execution_count": 107,
   "id": "45867df5",
   "metadata": {},
   "outputs": [],
   "source": [
    "import numpy as np \n",
    "import pandas as pd \n",
    "import seaborn as sns\n",
    "import matplotlib.pyplot as plt"
   ]
  },
  {
   "cell_type": "markdown",
   "id": "43a357aa",
   "metadata": {},
   "source": [
    "# 1.Data Collection\n",
    "Reading the dataset to the python environment and understanding data"
   ]
  },
  {
   "cell_type": "code",
   "execution_count": 108,
   "id": "29157f2e",
   "metadata": {
    "scrolled": true
   },
   "outputs": [
    {
     "data": {
      "text/html": [
       "<div>\n",
       "<style scoped>\n",
       "    .dataframe tbody tr th:only-of-type {\n",
       "        vertical-align: middle;\n",
       "    }\n",
       "\n",
       "    .dataframe tbody tr th {\n",
       "        vertical-align: top;\n",
       "    }\n",
       "\n",
       "    .dataframe thead th {\n",
       "        text-align: right;\n",
       "    }\n",
       "</style>\n",
       "<table border=\"1\" class=\"dataframe\">\n",
       "  <thead>\n",
       "    <tr style=\"text-align: right;\">\n",
       "      <th></th>\n",
       "      <th>name</th>\n",
       "      <th>sku</th>\n",
       "      <th>mpn</th>\n",
       "      <th>price</th>\n",
       "      <th>in_stock</th>\n",
       "      <th>currency</th>\n",
       "      <th>brand</th>\n",
       "      <th>description</th>\n",
       "      <th>images</th>\n",
       "      <th>gender</th>\n",
       "    </tr>\n",
       "  </thead>\n",
       "  <tbody>\n",
       "    <tr>\n",
       "      <th>0</th>\n",
       "      <td>DKNY Unisex Black &amp; Grey Printed Medium Trolle...</td>\n",
       "      <td>10017413</td>\n",
       "      <td>10017413</td>\n",
       "      <td>11745</td>\n",
       "      <td>True</td>\n",
       "      <td>INR</td>\n",
       "      <td>DKNY</td>\n",
       "      <td>Black and grey printed medium trolley bag, sec...</td>\n",
       "      <td>http://assets.myntassets.com/assets/images/100...</td>\n",
       "      <td>Unisex</td>\n",
       "    </tr>\n",
       "    <tr>\n",
       "      <th>1</th>\n",
       "      <td>EthnoVogue Women Beige &amp; Grey Made to Measure ...</td>\n",
       "      <td>10016283</td>\n",
       "      <td>10016283</td>\n",
       "      <td>5810</td>\n",
       "      <td>True</td>\n",
       "      <td>INR</td>\n",
       "      <td>EthnoVogue</td>\n",
       "      <td>Beige &amp; Grey made to measure kurta with churid...</td>\n",
       "      <td>http://assets.myntassets.com/assets/images/100...</td>\n",
       "      <td>Women</td>\n",
       "    </tr>\n",
       "    <tr>\n",
       "      <th>2</th>\n",
       "      <td>SPYKAR Women Pink Alexa Super Skinny Fit High-...</td>\n",
       "      <td>10009781</td>\n",
       "      <td>10009781</td>\n",
       "      <td>899</td>\n",
       "      <td>True</td>\n",
       "      <td>INR</td>\n",
       "      <td>SPYKAR</td>\n",
       "      <td>Pink coloured wash 5-pocket high-rise cropped ...</td>\n",
       "      <td>http://assets.myntassets.com/assets/images/100...</td>\n",
       "      <td>Women</td>\n",
       "    </tr>\n",
       "    <tr>\n",
       "      <th>3</th>\n",
       "      <td>Raymond Men Blue Self-Design Single-Breasted B...</td>\n",
       "      <td>10015921</td>\n",
       "      <td>10015921</td>\n",
       "      <td>5599</td>\n",
       "      <td>True</td>\n",
       "      <td>INR</td>\n",
       "      <td>Raymond</td>\n",
       "      <td>Blue self-design bandhgala suitBlue self-desig...</td>\n",
       "      <td>http://assets.myntassets.com/assets/images/pro...</td>\n",
       "      <td>Men</td>\n",
       "    </tr>\n",
       "    <tr>\n",
       "      <th>4</th>\n",
       "      <td>Parx Men Brown &amp; Off-White Slim Fit Printed Ca...</td>\n",
       "      <td>10017833</td>\n",
       "      <td>10017833</td>\n",
       "      <td>759</td>\n",
       "      <td>True</td>\n",
       "      <td>INR</td>\n",
       "      <td>Parx</td>\n",
       "      <td>Brown and off-white printed casual shirt, has ...</td>\n",
       "      <td>http://assets.myntassets.com/assets/images/pro...</td>\n",
       "      <td>Men</td>\n",
       "    </tr>\n",
       "  </tbody>\n",
       "</table>\n",
       "</div>"
      ],
      "text/plain": [
       "                                                name       sku       mpn  \\\n",
       "0  DKNY Unisex Black & Grey Printed Medium Trolle...  10017413  10017413   \n",
       "1  EthnoVogue Women Beige & Grey Made to Measure ...  10016283  10016283   \n",
       "2  SPYKAR Women Pink Alexa Super Skinny Fit High-...  10009781  10009781   \n",
       "3  Raymond Men Blue Self-Design Single-Breasted B...  10015921  10015921   \n",
       "4  Parx Men Brown & Off-White Slim Fit Printed Ca...  10017833  10017833   \n",
       "\n",
       "   price  in_stock currency       brand  \\\n",
       "0  11745      True      INR        DKNY   \n",
       "1   5810      True      INR  EthnoVogue   \n",
       "2    899      True      INR      SPYKAR   \n",
       "3   5599      True      INR     Raymond   \n",
       "4    759      True      INR        Parx   \n",
       "\n",
       "                                         description  \\\n",
       "0  Black and grey printed medium trolley bag, sec...   \n",
       "1  Beige & Grey made to measure kurta with churid...   \n",
       "2  Pink coloured wash 5-pocket high-rise cropped ...   \n",
       "3  Blue self-design bandhgala suitBlue self-desig...   \n",
       "4  Brown and off-white printed casual shirt, has ...   \n",
       "\n",
       "                                              images  gender  \n",
       "0  http://assets.myntassets.com/assets/images/100...  Unisex  \n",
       "1  http://assets.myntassets.com/assets/images/100...   Women  \n",
       "2  http://assets.myntassets.com/assets/images/100...   Women  \n",
       "3  http://assets.myntassets.com/assets/images/pro...     Men  \n",
       "4  http://assets.myntassets.com/assets/images/pro...     Men  "
      ]
     },
     "execution_count": 108,
     "metadata": {},
     "output_type": "execute_result"
    }
   ],
   "source": [
    "data=pd.read_excel('myntra_fashion_products_free_dataset.xls')\n",
    "data.head()"
   ]
  },
  {
   "cell_type": "code",
   "execution_count": 109,
   "id": "2c690a5a",
   "metadata": {},
   "outputs": [
    {
     "data": {
      "text/plain": [
       "(12491, 10)"
      ]
     },
     "execution_count": 109,
     "metadata": {},
     "output_type": "execute_result"
    }
   ],
   "source": [
    "data.shape"
   ]
  },
  {
   "cell_type": "code",
   "execution_count": 110,
   "id": "5b2fe1da",
   "metadata": {},
   "outputs": [
    {
     "name": "stdout",
     "output_type": "stream",
     "text": [
      "<class 'pandas.core.frame.DataFrame'>\n",
      "RangeIndex: 12491 entries, 0 to 12490\n",
      "Data columns (total 10 columns):\n",
      " #   Column       Non-Null Count  Dtype \n",
      "---  ------       --------------  ----- \n",
      " 0   name         12491 non-null  object\n",
      " 1   sku          12491 non-null  int64 \n",
      " 2   mpn          12491 non-null  int64 \n",
      " 3   price        12491 non-null  int64 \n",
      " 4   in_stock     12491 non-null  bool  \n",
      " 5   currency     12491 non-null  object\n",
      " 6   brand        12491 non-null  object\n",
      " 7   description  12491 non-null  object\n",
      " 8   images       12491 non-null  object\n",
      " 9   gender       12491 non-null  object\n",
      "dtypes: bool(1), int64(3), object(6)\n",
      "memory usage: 890.6+ KB\n"
     ]
    }
   ],
   "source": [
    "data.info()"
   ]
  },
  {
   "cell_type": "code",
   "execution_count": 111,
   "id": "76001f4f",
   "metadata": {},
   "outputs": [
    {
     "data": {
      "text/html": [
       "<div>\n",
       "<style scoped>\n",
       "    .dataframe tbody tr th:only-of-type {\n",
       "        vertical-align: middle;\n",
       "    }\n",
       "\n",
       "    .dataframe tbody tr th {\n",
       "        vertical-align: top;\n",
       "    }\n",
       "\n",
       "    .dataframe thead th {\n",
       "        text-align: right;\n",
       "    }\n",
       "</style>\n",
       "<table border=\"1\" class=\"dataframe\">\n",
       "  <thead>\n",
       "    <tr style=\"text-align: right;\">\n",
       "      <th></th>\n",
       "      <th>sku</th>\n",
       "      <th>mpn</th>\n",
       "      <th>price</th>\n",
       "    </tr>\n",
       "  </thead>\n",
       "  <tbody>\n",
       "    <tr>\n",
       "      <th>count</th>\n",
       "      <td>1.249100e+04</td>\n",
       "      <td>1.249100e+04</td>\n",
       "      <td>12491.000000</td>\n",
       "    </tr>\n",
       "    <tr>\n",
       "      <th>mean</th>\n",
       "      <td>9.917160e+06</td>\n",
       "      <td>9.917160e+06</td>\n",
       "      <td>1452.660956</td>\n",
       "    </tr>\n",
       "    <tr>\n",
       "      <th>std</th>\n",
       "      <td>1.438006e+06</td>\n",
       "      <td>1.438006e+06</td>\n",
       "      <td>2118.503976</td>\n",
       "    </tr>\n",
       "    <tr>\n",
       "      <th>min</th>\n",
       "      <td>1.012060e+05</td>\n",
       "      <td>1.012060e+05</td>\n",
       "      <td>90.000000</td>\n",
       "    </tr>\n",
       "    <tr>\n",
       "      <th>25%</th>\n",
       "      <td>1.006215e+07</td>\n",
       "      <td>1.006215e+07</td>\n",
       "      <td>649.000000</td>\n",
       "    </tr>\n",
       "    <tr>\n",
       "      <th>50%</th>\n",
       "      <td>1.015463e+07</td>\n",
       "      <td>1.015463e+07</td>\n",
       "      <td>920.000000</td>\n",
       "    </tr>\n",
       "    <tr>\n",
       "      <th>75%</th>\n",
       "      <td>1.021565e+07</td>\n",
       "      <td>1.021565e+07</td>\n",
       "      <td>1499.000000</td>\n",
       "    </tr>\n",
       "    <tr>\n",
       "      <th>max</th>\n",
       "      <td>1.027514e+07</td>\n",
       "      <td>1.027514e+07</td>\n",
       "      <td>63090.000000</td>\n",
       "    </tr>\n",
       "  </tbody>\n",
       "</table>\n",
       "</div>"
      ],
      "text/plain": [
       "                sku           mpn         price\n",
       "count  1.249100e+04  1.249100e+04  12491.000000\n",
       "mean   9.917160e+06  9.917160e+06   1452.660956\n",
       "std    1.438006e+06  1.438006e+06   2118.503976\n",
       "min    1.012060e+05  1.012060e+05     90.000000\n",
       "25%    1.006215e+07  1.006215e+07    649.000000\n",
       "50%    1.015463e+07  1.015463e+07    920.000000\n",
       "75%    1.021565e+07  1.021565e+07   1499.000000\n",
       "max    1.027514e+07  1.027514e+07  63090.000000"
      ]
     },
     "execution_count": 111,
     "metadata": {},
     "output_type": "execute_result"
    }
   ],
   "source": [
    "data.describe()"
   ]
  },
  {
   "cell_type": "code",
   "execution_count": 112,
   "id": "e7a6dc1b",
   "metadata": {},
   "outputs": [
    {
     "data": {
      "image/png": "[encoded data removed]",
      "text/plain": [
       "<Figure size 432x288 with 4 Axes>"
      ]
     },
     "metadata": {
      "needs_background": "light"
     },
     "output_type": "display_data"
    }
   ],
   "source": [
    "#visualizing the data  \n",
    "\n",
    "data.hist()\n",
    "plt.show()"
   ]
  },
  {
   "cell_type": "markdown",
   "id": "d443d46b",
   "metadata": {},
   "source": [
    "Insights: In this dataset 12491 samples and 10 features.The features are :(1)name,name of each product(2)sku(stock keeping unit),its a number that retailers assign to products to keep track of stock levels.(3)mpn(Manufacturer Part Number) is the product identifier used to differentiate a product among other (similar) products from the same brand/manufacturer.(4)price . (5)in_stock,stock availability.(6)currency (7)brand,brand name (8)description,description of product.(9)images (10)gender"
   ]
  },
  {
   "cell_type": "markdown",
   "id": "4a59993a",
   "metadata": {},
   "source": []
  },
  {
   "cell_type": "markdown",
   "id": "7adcf776",
   "metadata": {},
   "source": [
    "# 2.Data preprocessing"
   ]
  },
  {
   "cell_type": "code",
   "execution_count": 113,
   "id": "f81b2b8e",
   "metadata": {},
   "outputs": [
    {
     "data": {
      "text/plain": [
       "Index(['name', 'sku', 'mpn', 'price', 'in_stock', 'currency', 'brand',\n",
       "       'description', 'images', 'gender'],\n",
       "      dtype='object')"
      ]
     },
     "execution_count": 113,
     "metadata": {},
     "output_type": "execute_result"
    }
   ],
   "source": [
    "data.columns"
   ]
  },
  {
   "cell_type": "code",
   "execution_count": 114,
   "id": "2c2139a1",
   "metadata": {},
   "outputs": [
    {
     "name": "stdout",
     "output_type": "stream",
     "text": [
      "There are no duplicted rows in this data\n"
     ]
    }
   ],
   "source": [
    "#checking for duplicated entries\n",
    "duplicates = data.duplicated().sum() \n",
    "if  duplicates == 0:\n",
    "    print(\"There are no duplicted rows in this data\")\n",
    "else:\n",
    "    print('There are: ', str(duplicates), \" duplicates\")"
   ]
  },
  {
   "cell_type": "code",
   "execution_count": 115,
   "id": "94914999",
   "metadata": {},
   "outputs": [
    {
     "data": {
      "text/plain": [
       "name           0\n",
       "sku            0\n",
       "mpn            0\n",
       "price          0\n",
       "in_stock       0\n",
       "currency       0\n",
       "brand          0\n",
       "description    0\n",
       "images         0\n",
       "gender         0\n",
       "dtype: int64"
      ]
     },
     "execution_count": 115,
     "metadata": {},
     "output_type": "execute_result"
    }
   ],
   "source": [
    "#Checking missing values\n",
    "data.isna().sum()"
   ]
  },
  {
   "cell_type": "markdown",
   "id": "8ab5fa4a",
   "metadata": {},
   "source": [
    "Insight:There is no missing values."
   ]
  },
  {
   "cell_type": "markdown",
   "id": "65e60322",
   "metadata": {},
   "source": [
    "#outliers"
   ]
  },
  {
   "cell_type": "code",
   "execution_count": 116,
   "id": "78722312",
   "metadata": {},
   "outputs": [
    {
     "data": {
      "text/plain": [
       "<AxesSubplot:title={'center':'Box plot to find outliers'}>"
      ]
     },
     "execution_count": 116,
     "metadata": {},
     "output_type": "execute_result"
    },
    {
     "data": {
      "image/png": "[encoded data removed]",
      "text/plain": [
       "<Figure size 432x288 with 1 Axes>"
      ]
     },
     "metadata": {
      "needs_background": "light"
     },
     "output_type": "display_data"
    }
   ],
   "source": [
    "\n",
    "plt.title('Box plot to find outliers')\n",
    "data.boxplot(column=['sku','mpn','price'],figsize=(40,15),grid=True)"
   ]
  },
  {
   "cell_type": "code",
   "execution_count": 117,
   "id": "a4c0e249",
   "metadata": {},
   "outputs": [
    {
     "name": "stdout",
     "output_type": "stream",
     "text": [
      "q1= 10062153.0\n",
      "q2= 10154629.0\n",
      "q3= 10215654.0\n",
      "low_lim: 9831901.5\n",
      "up_lim: 9985402.5\n"
     ]
    }
   ],
   "source": [
    "\n",
    "\n",
    "q1=np.percentile(data['sku'],25,interpolation='midpoint')\n",
    "q2=np.percentile(data['sku'],50,interpolation='midpoint')\n",
    "q3=np.percentile(data['sku'],75,interpolation='midpoint')\n",
    "print('q1=',q1)\n",
    "print('q2=',q2)\n",
    "print('q3=',q3)\n",
    "IQR=q3-q1\n",
    "low_lim=q1-1.5*IQR\n",
    "up_lim=q3-1.5*IQR\n",
    "print('low_lim:',low_lim)\n",
    "print('up_lim:',up_lim)"
   ]
  },
  {
   "cell_type": "code",
   "execution_count": 118,
   "id": "075fe961",
   "metadata": {},
   "outputs": [
    {
     "data": {
      "text/html": [
       "<div>\n",
       "<style scoped>\n",
       "    .dataframe tbody tr th:only-of-type {\n",
       "        vertical-align: middle;\n",
       "    }\n",
       "\n",
       "    .dataframe tbody tr th {\n",
       "        vertical-align: top;\n",
       "    }\n",
       "\n",
       "    .dataframe thead th {\n",
       "        text-align: right;\n",
       "    }\n",
       "</style>\n",
       "<table border=\"1\" class=\"dataframe\">\n",
       "  <thead>\n",
       "    <tr style=\"text-align: right;\">\n",
       "      <th></th>\n",
       "      <th>name</th>\n",
       "      <th>sku</th>\n",
       "      <th>mpn</th>\n",
       "      <th>price</th>\n",
       "      <th>in_stock</th>\n",
       "      <th>currency</th>\n",
       "      <th>brand</th>\n",
       "      <th>description</th>\n",
       "      <th>images</th>\n",
       "      <th>gender</th>\n",
       "    </tr>\n",
       "  </thead>\n",
       "  <tbody>\n",
       "    <tr>\n",
       "      <th>0</th>\n",
       "      <td>DKNY Unisex Black &amp; Grey Printed Medium Trolle...</td>\n",
       "      <td>9985402.5</td>\n",
       "      <td>10017413</td>\n",
       "      <td>11745</td>\n",
       "      <td>True</td>\n",
       "      <td>INR</td>\n",
       "      <td>DKNY</td>\n",
       "      <td>Black and grey printed medium trolley bag, sec...</td>\n",
       "      <td>http://assets.myntassets.com/assets/images/100...</td>\n",
       "      <td>Unisex</td>\n",
       "    </tr>\n",
       "    <tr>\n",
       "      <th>1</th>\n",
       "      <td>EthnoVogue Women Beige &amp; Grey Made to Measure ...</td>\n",
       "      <td>9985402.5</td>\n",
       "      <td>10016283</td>\n",
       "      <td>5810</td>\n",
       "      <td>True</td>\n",
       "      <td>INR</td>\n",
       "      <td>EthnoVogue</td>\n",
       "      <td>Beige &amp; Grey made to measure kurta with churid...</td>\n",
       "      <td>http://assets.myntassets.com/assets/images/100...</td>\n",
       "      <td>Women</td>\n",
       "    </tr>\n",
       "    <tr>\n",
       "      <th>2</th>\n",
       "      <td>SPYKAR Women Pink Alexa Super Skinny Fit High-...</td>\n",
       "      <td>9985402.5</td>\n",
       "      <td>10009781</td>\n",
       "      <td>899</td>\n",
       "      <td>True</td>\n",
       "      <td>INR</td>\n",
       "      <td>SPYKAR</td>\n",
       "      <td>Pink coloured wash 5-pocket high-rise cropped ...</td>\n",
       "      <td>http://assets.myntassets.com/assets/images/100...</td>\n",
       "      <td>Women</td>\n",
       "    </tr>\n",
       "    <tr>\n",
       "      <th>3</th>\n",
       "      <td>Raymond Men Blue Self-Design Single-Breasted B...</td>\n",
       "      <td>9985402.5</td>\n",
       "      <td>10015921</td>\n",
       "      <td>5599</td>\n",
       "      <td>True</td>\n",
       "      <td>INR</td>\n",
       "      <td>Raymond</td>\n",
       "      <td>Blue self-design bandhgala suitBlue self-desig...</td>\n",
       "      <td>http://assets.myntassets.com/assets/images/pro...</td>\n",
       "      <td>Men</td>\n",
       "    </tr>\n",
       "    <tr>\n",
       "      <th>4</th>\n",
       "      <td>Parx Men Brown &amp; Off-White Slim Fit Printed Ca...</td>\n",
       "      <td>9985402.5</td>\n",
       "      <td>10017833</td>\n",
       "      <td>759</td>\n",
       "      <td>True</td>\n",
       "      <td>INR</td>\n",
       "      <td>Parx</td>\n",
       "      <td>Brown and off-white printed casual shirt, has ...</td>\n",
       "      <td>http://assets.myntassets.com/assets/images/pro...</td>\n",
       "      <td>Men</td>\n",
       "    </tr>\n",
       "    <tr>\n",
       "      <th>...</th>\n",
       "      <td>...</td>\n",
       "      <td>...</td>\n",
       "      <td>...</td>\n",
       "      <td>...</td>\n",
       "      <td>...</td>\n",
       "      <td>...</td>\n",
       "      <td>...</td>\n",
       "      <td>...</td>\n",
       "      <td>...</td>\n",
       "      <td>...</td>\n",
       "    </tr>\n",
       "    <tr>\n",
       "      <th>12486</th>\n",
       "      <td>Pepe Jeans Men Black Hammock Slim Fit Low-Rise...</td>\n",
       "      <td>9985402.5</td>\n",
       "      <td>10262843</td>\n",
       "      <td>1299</td>\n",
       "      <td>True</td>\n",
       "      <td>INR</td>\n",
       "      <td>Pepe Jeans</td>\n",
       "      <td>Black dark wash 5-pocket low-rise jeans, clean...</td>\n",
       "      <td>http://assets.myntassets.com/assets/images/102...</td>\n",
       "      <td>Men</td>\n",
       "    </tr>\n",
       "    <tr>\n",
       "      <th>12487</th>\n",
       "      <td>Mochi Women Gold-Toned Solid Heels</td>\n",
       "      <td>9985402.5</td>\n",
       "      <td>10261721</td>\n",
       "      <td>1990</td>\n",
       "      <td>True</td>\n",
       "      <td>INR</td>\n",
       "      <td>Mochi</td>\n",
       "      <td>A pair of gold-toned open toe heels, has regul...</td>\n",
       "      <td>http://assets.myntassets.com/assets/images/pro...</td>\n",
       "      <td>Women</td>\n",
       "    </tr>\n",
       "    <tr>\n",
       "      <th>12488</th>\n",
       "      <td>612 league Girls Navy Blue &amp; White Printed Reg...</td>\n",
       "      <td>9985402.5</td>\n",
       "      <td>10261607</td>\n",
       "      <td>602</td>\n",
       "      <td>True</td>\n",
       "      <td>INR</td>\n",
       "      <td>612 league</td>\n",
       "      <td>Navy Blue and White printed mid-rise denim sho...</td>\n",
       "      <td>http://assets.myntassets.com/assets/images/102...</td>\n",
       "      <td>Girls</td>\n",
       "    </tr>\n",
       "    <tr>\n",
       "      <th>12489</th>\n",
       "      <td>Bvlgari Men Aqva Pour Homme Marine Eau de Toil...</td>\n",
       "      <td>9985402.5</td>\n",
       "      <td>10266621</td>\n",
       "      <td>8950</td>\n",
       "      <td>True</td>\n",
       "      <td>INR</td>\n",
       "      <td>Bvlgari</td>\n",
       "      <td>Bvlgari Men Aqva Pour Homme Marine Eau de Toil...</td>\n",
       "      <td>http://assets.myntassets.com/assets/images/102...</td>\n",
       "      <td>Men</td>\n",
       "    </tr>\n",
       "    <tr>\n",
       "      <th>12490</th>\n",
       "      <td>Pepe Jeans Men Black &amp; Grey Striped Polo Colla...</td>\n",
       "      <td>9985402.5</td>\n",
       "      <td>10265199</td>\n",
       "      <td>799</td>\n",
       "      <td>True</td>\n",
       "      <td>INR</td>\n",
       "      <td>Pepe Jeans</td>\n",
       "      <td>Black and grey striped T-shirt, has a polo col...</td>\n",
       "      <td>http://assets.myntassets.com/assets/images/102...</td>\n",
       "      <td>Men</td>\n",
       "    </tr>\n",
       "  </tbody>\n",
       "</table>\n",
       "<p>12491 rows × 10 columns</p>\n",
       "</div>"
      ],
      "text/plain": [
       "                                                    name        sku       mpn  \\\n",
       "0      DKNY Unisex Black & Grey Printed Medium Trolle...  9985402.5  10017413   \n",
       "1      EthnoVogue Women Beige & Grey Made to Measure ...  9985402.5  10016283   \n",
       "2      SPYKAR Women Pink Alexa Super Skinny Fit High-...  9985402.5  10009781   \n",
       "3      Raymond Men Blue Self-Design Single-Breasted B...  9985402.5  10015921   \n",
       "4      Parx Men Brown & Off-White Slim Fit Printed Ca...  9985402.5  10017833   \n",
       "...                                                  ...        ...       ...   \n",
       "12486  Pepe Jeans Men Black Hammock Slim Fit Low-Rise...  9985402.5  10262843   \n",
       "12487                 Mochi Women Gold-Toned Solid Heels  9985402.5  10261721   \n",
       "12488  612 league Girls Navy Blue & White Printed Reg...  9985402.5  10261607   \n",
       "12489  Bvlgari Men Aqva Pour Homme Marine Eau de Toil...  9985402.5  10266621   \n",
       "12490  Pepe Jeans Men Black & Grey Striped Polo Colla...  9985402.5  10265199   \n",
       "\n",
       "       price  in_stock currency       brand  \\\n",
       "0      11745      True      INR        DKNY   \n",
       "1       5810      True      INR  EthnoVogue   \n",
       "2        899      True      INR      SPYKAR   \n",
       "3       5599      True      INR     Raymond   \n",
       "4        759      True      INR        Parx   \n",
       "...      ...       ...      ...         ...   \n",
       "12486   1299      True      INR  Pepe Jeans   \n",
       "12487   1990      True      INR       Mochi   \n",
       "12488    602      True      INR  612 league   \n",
       "12489   8950      True      INR     Bvlgari   \n",
       "12490    799      True      INR  Pepe Jeans   \n",
       "\n",
       "                                             description  \\\n",
       "0      Black and grey printed medium trolley bag, sec...   \n",
       "1      Beige & Grey made to measure kurta with churid...   \n",
       "2      Pink coloured wash 5-pocket high-rise cropped ...   \n",
       "3      Blue self-design bandhgala suitBlue self-desig...   \n",
       "4      Brown and off-white printed casual shirt, has ...   \n",
       "...                                                  ...   \n",
       "12486  Black dark wash 5-pocket low-rise jeans, clean...   \n",
       "12487  A pair of gold-toned open toe heels, has regul...   \n",
       "12488  Navy Blue and White printed mid-rise denim sho...   \n",
       "12489  Bvlgari Men Aqva Pour Homme Marine Eau de Toil...   \n",
       "12490  Black and grey striped T-shirt, has a polo col...   \n",
       "\n",
       "                                                  images  gender  \n",
       "0      http://assets.myntassets.com/assets/images/100...  Unisex  \n",
       "1      http://assets.myntassets.com/assets/images/100...   Women  \n",
       "2      http://assets.myntassets.com/assets/images/100...   Women  \n",
       "3      http://assets.myntassets.com/assets/images/pro...     Men  \n",
       "4      http://assets.myntassets.com/assets/images/pro...     Men  \n",
       "...                                                  ...     ...  \n",
       "12486  http://assets.myntassets.com/assets/images/102...     Men  \n",
       "12487  http://assets.myntassets.com/assets/images/pro...   Women  \n",
       "12488  http://assets.myntassets.com/assets/images/102...   Girls  \n",
       "12489  http://assets.myntassets.com/assets/images/102...     Men  \n",
       "12490  http://assets.myntassets.com/assets/images/102...     Men  \n",
       "\n",
       "[12491 rows x 10 columns]"
      ]
     },
     "execution_count": 118,
     "metadata": {},
     "output_type": "execute_result"
    }
   ],
   "source": [
    "outlier=[]\n",
    "for x in data['sku']:\n",
    "    if((x>up_lim) or (x<low_lim)):\n",
    "        outlier.append(x)\n",
    "data['sku']=np.where(data['sku']>up_lim,up_lim,np.where(data['sku']<low_lim,low_lim,data['sku']))\n",
    "data"
   ]
  },
  {
   "cell_type": "code",
   "execution_count": 119,
   "id": "69adea1c",
   "metadata": {},
   "outputs": [
    {
     "data": {
      "text/plain": [
       "Text(0.5, 1.0, 'Box plot of sku')"
      ]
     },
     "execution_count": 119,
     "metadata": {},
     "output_type": "execute_result"
    },
    {
     "data": {
      "image/png": "[encoded data removed]",
      "text/plain": [
       "<Figure size 432x288 with 1 Axes>"
      ]
     },
     "metadata": {
      "needs_background": "light"
     },
     "output_type": "display_data"
    }
   ],
   "source": [
    "plt.boxplot(data['sku'])\n",
    "plt.title('Box plot of sku')"
   ]
  },
  {
   "cell_type": "code",
   "execution_count": null,
   "id": "19af8961",
   "metadata": {},
   "outputs": [],
   "source": []
  },
  {
   "cell_type": "code",
   "execution_count": 120,
   "id": "3ea2ff93",
   "metadata": {},
   "outputs": [
    {
     "name": "stdout",
     "output_type": "stream",
     "text": [
      "q1= 10062153.0\n",
      "q2= 10154629.0\n",
      "q3= 10215654.0\n",
      "low_lim: 9831901.5\n",
      "up_lim: 9985402.5\n"
     ]
    }
   ],
   "source": [
    "q1=np.percentile(data['mpn'],25,interpolation='midpoint')\n",
    "q2=np.percentile(data['mpn'],50,interpolation='midpoint')\n",
    "q3=np.percentile(data['mpn'],75,interpolation='midpoint')\n",
    "print('q1=',q1)\n",
    "print('q2=',q2)\n",
    "print('q3=',q3)\n",
    "IQR=q3-q1\n",
    "low_lim=q1-1.5*IQR\n",
    "up_lim=q3-1.5*IQR\n",
    "print('low_lim:',low_lim)\n",
    "print('up_lim:',up_lim)"
   ]
  },
  {
   "cell_type": "code",
   "execution_count": 121,
   "id": "8ac07f5d",
   "metadata": {},
   "outputs": [],
   "source": [
    "outlier=[]\n",
    "for x in data['mpn']:\n",
    "    if((x>up_lim) or (x<low_lim)):\n",
    "        outlier.append(x)\n",
    "data['mpn']=np.where(data['mpn']>up_lim,up_lim,np.where(data['mpn']<low_lim,low_lim,data['mpn']))\n",
    "#data"
   ]
  },
  {
   "cell_type": "code",
   "execution_count": 122,
   "id": "55bad903",
   "metadata": {},
   "outputs": [
    {
     "data": {
      "text/plain": [
       "Text(0.5, 1.0, 'Box plot of mpn')"
      ]
     },
     "execution_count": 122,
     "metadata": {},
     "output_type": "execute_result"
    },
    {
     "data": {
      "image/png": "[encoded data removed]",
      "text/plain": [
       "<Figure size 432x288 with 1 Axes>"
      ]
     },
     "metadata": {
      "needs_background": "light"
     },
     "output_type": "display_data"
    }
   ],
   "source": [
    "plt.boxplot(data['mpn'])\n",
    "plt.title('Box plot of mpn')"
   ]
  },
  {
   "cell_type": "code",
   "execution_count": 123,
   "id": "311fd557",
   "metadata": {},
   "outputs": [
    {
     "name": "stdout",
     "output_type": "stream",
     "text": [
      "q1= 649.0\n",
      "q2= 920.0\n",
      "q3= 1499.0\n",
      "low_lim: -626.0\n",
      "up_lim: 224.0\n"
     ]
    }
   ],
   "source": [
    "q1=np.percentile(data['price'],25,interpolation='midpoint')\n",
    "q2=np.percentile(data['price'],50,interpolation='midpoint')\n",
    "q3=np.percentile(data['price'],75,interpolation='midpoint')\n",
    "print('q1=',q1)\n",
    "print('q2=',q2)\n",
    "print('q3=',q3)\n",
    "IQR=q3-q1\n",
    "low_lim=q1-1.5*IQR\n",
    "up_lim=q3-1.5*IQR\n",
    "print('low_lim:',low_lim)\n",
    "print('up_lim:',up_lim)"
   ]
  },
  {
   "cell_type": "code",
   "execution_count": 16,
   "id": "9f91abf2",
   "metadata": {},
   "outputs": [],
   "source": [
    "outlier=[]\n",
    "for x in data['price']:\n",
    "    if((x>up_lim) or (x<low_lim)):\n",
    "        outlier.append(x)\n",
    "data['price']=np.where(data['price']>up_lim,up_lim,np.where(data['price']<low_lim,low_lim,data['price']))\n",
    "#data"
   ]
  },
  {
   "cell_type": "code",
   "execution_count": 124,
   "id": "6152ab6a",
   "metadata": {},
   "outputs": [
    {
     "data": {
      "text/plain": [
       "Text(0.5, 1.0, 'Box plot of mpn')"
      ]
     },
     "execution_count": 124,
     "metadata": {},
     "output_type": "execute_result"
    },
    {
     "data": {
      "image/png": "[encoded data removed]",
      "text/plain": [
       "<Figure size 432x288 with 1 Axes>"
      ]
     },
     "metadata": {
      "needs_background": "light"
     },
     "output_type": "display_data"
    }
   ],
   "source": [
    "plt.boxplot(data['mpn'])\n",
    "plt.title('Box plot of mpn')"
   ]
  },
  {
   "cell_type": "markdown",
   "id": "f9ba2e1e",
   "metadata": {},
   "source": [
    "Insight:For outlier preprocessor we have take 3 field.They are ,sku,mpn,price.we handled the outliers"
   ]
  },
  {
   "cell_type": "markdown",
   "id": "c9425d1a",
   "metadata": {},
   "source": [
    "#Encoding"
   ]
  },
  {
   "cell_type": "code",
   "execution_count": 125,
   "id": "02871d9a",
   "metadata": {},
   "outputs": [
    {
     "name": "stdout",
     "output_type": "stream",
     "text": [
      "<class 'pandas.core.frame.DataFrame'>\n",
      "RangeIndex: 12491 entries, 0 to 12490\n",
      "Data columns (total 10 columns):\n",
      " #   Column       Non-Null Count  Dtype  \n",
      "---  ------       --------------  -----  \n",
      " 0   name         12491 non-null  object \n",
      " 1   sku          12491 non-null  float64\n",
      " 2   mpn          12491 non-null  float64\n",
      " 3   price        12491 non-null  int64  \n",
      " 4   in_stock     12491 non-null  bool   \n",
      " 5   currency     12491 non-null  object \n",
      " 6   brand        12491 non-null  object \n",
      " 7   description  12491 non-null  object \n",
      " 8   images       12491 non-null  object \n",
      " 9   gender       12491 non-null  object \n",
      "dtypes: bool(1), float64(2), int64(1), object(6)\n",
      "memory usage: 890.6+ KB\n"
     ]
    }
   ],
   "source": [
    "data.info()"
   ]
  },
  {
   "cell_type": "code",
   "execution_count": 231,
   "id": "0d9d66d7",
   "metadata": {},
   "outputs": [],
   "source": [
    "x=data.drop(['images','name','gender'],axis=1)\n",
    "y=pd.DataFrame(data['gender'])"
   ]
  },
  {
   "cell_type": "code",
   "execution_count": 127,
   "id": "1ed967ce",
   "metadata": {},
   "outputs": [
    {
     "data": {
      "text/html": [
       "<div>\n",
       "<style scoped>\n",
       "    .dataframe tbody tr th:only-of-type {\n",
       "        vertical-align: middle;\n",
       "    }\n",
       "\n",
       "    .dataframe tbody tr th {\n",
       "        vertical-align: top;\n",
       "    }\n",
       "\n",
       "    .dataframe thead th {\n",
       "        text-align: right;\n",
       "    }\n",
       "</style>\n",
       "<table border=\"1\" class=\"dataframe\">\n",
       "  <thead>\n",
       "    <tr style=\"text-align: right;\">\n",
       "      <th></th>\n",
       "      <th>sku</th>\n",
       "      <th>mpn</th>\n",
       "      <th>price</th>\n",
       "      <th>in_stock</th>\n",
       "      <th>currency</th>\n",
       "      <th>brand</th>\n",
       "      <th>description</th>\n",
       "    </tr>\n",
       "  </thead>\n",
       "  <tbody>\n",
       "    <tr>\n",
       "      <th>0</th>\n",
       "      <td>9985402.5</td>\n",
       "      <td>9985402.5</td>\n",
       "      <td>11745</td>\n",
       "      <td>True</td>\n",
       "      <td>INR</td>\n",
       "      <td>DKNY</td>\n",
       "      <td>Black and grey printed medium trolley bag, sec...</td>\n",
       "    </tr>\n",
       "    <tr>\n",
       "      <th>1</th>\n",
       "      <td>9985402.5</td>\n",
       "      <td>9985402.5</td>\n",
       "      <td>5810</td>\n",
       "      <td>True</td>\n",
       "      <td>INR</td>\n",
       "      <td>EthnoVogue</td>\n",
       "      <td>Beige &amp; Grey made to measure kurta with churid...</td>\n",
       "    </tr>\n",
       "    <tr>\n",
       "      <th>2</th>\n",
       "      <td>9985402.5</td>\n",
       "      <td>9985402.5</td>\n",
       "      <td>899</td>\n",
       "      <td>True</td>\n",
       "      <td>INR</td>\n",
       "      <td>SPYKAR</td>\n",
       "      <td>Pink coloured wash 5-pocket high-rise cropped ...</td>\n",
       "    </tr>\n",
       "    <tr>\n",
       "      <th>3</th>\n",
       "      <td>9985402.5</td>\n",
       "      <td>9985402.5</td>\n",
       "      <td>5599</td>\n",
       "      <td>True</td>\n",
       "      <td>INR</td>\n",
       "      <td>Raymond</td>\n",
       "      <td>Blue self-design bandhgala suitBlue self-desig...</td>\n",
       "    </tr>\n",
       "    <tr>\n",
       "      <th>4</th>\n",
       "      <td>9985402.5</td>\n",
       "      <td>9985402.5</td>\n",
       "      <td>759</td>\n",
       "      <td>True</td>\n",
       "      <td>INR</td>\n",
       "      <td>Parx</td>\n",
       "      <td>Brown and off-white printed casual shirt, has ...</td>\n",
       "    </tr>\n",
       "  </tbody>\n",
       "</table>\n",
       "</div>"
      ],
      "text/plain": [
       "         sku        mpn  price  in_stock currency       brand  \\\n",
       "0  9985402.5  9985402.5  11745      True      INR        DKNY   \n",
       "1  9985402.5  9985402.5   5810      True      INR  EthnoVogue   \n",
       "2  9985402.5  9985402.5    899      True      INR      SPYKAR   \n",
       "3  9985402.5  9985402.5   5599      True      INR     Raymond   \n",
       "4  9985402.5  9985402.5    759      True      INR        Parx   \n",
       "\n",
       "                                         description  \n",
       "0  Black and grey printed medium trolley bag, sec...  \n",
       "1  Beige & Grey made to measure kurta with churid...  \n",
       "2  Pink coloured wash 5-pocket high-rise cropped ...  \n",
       "3  Blue self-design bandhgala suitBlue self-desig...  \n",
       "4  Brown and off-white printed casual shirt, has ...  "
      ]
     },
     "execution_count": 127,
     "metadata": {},
     "output_type": "execute_result"
    }
   ],
   "source": [
    "x.head()"
   ]
  },
  {
   "cell_type": "code",
   "execution_count": 128,
   "id": "48217da7",
   "metadata": {},
   "outputs": [
    {
     "data": {
      "text/html": [
       "<div>\n",
       "<style scoped>\n",
       "    .dataframe tbody tr th:only-of-type {\n",
       "        vertical-align: middle;\n",
       "    }\n",
       "\n",
       "    .dataframe tbody tr th {\n",
       "        vertical-align: top;\n",
       "    }\n",
       "\n",
       "    .dataframe thead th {\n",
       "        text-align: right;\n",
       "    }\n",
       "</style>\n",
       "<table border=\"1\" class=\"dataframe\">\n",
       "  <thead>\n",
       "    <tr style=\"text-align: right;\">\n",
       "      <th></th>\n",
       "      <th>gender</th>\n",
       "    </tr>\n",
       "  </thead>\n",
       "  <tbody>\n",
       "    <tr>\n",
       "      <th>0</th>\n",
       "      <td>Unisex</td>\n",
       "    </tr>\n",
       "    <tr>\n",
       "      <th>1</th>\n",
       "      <td>Women</td>\n",
       "    </tr>\n",
       "    <tr>\n",
       "      <th>2</th>\n",
       "      <td>Women</td>\n",
       "    </tr>\n",
       "    <tr>\n",
       "      <th>3</th>\n",
       "      <td>Men</td>\n",
       "    </tr>\n",
       "    <tr>\n",
       "      <th>4</th>\n",
       "      <td>Men</td>\n",
       "    </tr>\n",
       "  </tbody>\n",
       "</table>\n",
       "</div>"
      ],
      "text/plain": [
       "   gender\n",
       "0  Unisex\n",
       "1   Women\n",
       "2   Women\n",
       "3     Men\n",
       "4     Men"
      ]
     },
     "execution_count": 128,
     "metadata": {},
     "output_type": "execute_result"
    }
   ],
   "source": [
    "y.head()"
   ]
  },
  {
   "cell_type": "code",
   "execution_count": 232,
   "id": "0fe9cbd5",
   "metadata": {},
   "outputs": [
    {
     "name": "stdout",
     "output_type": "stream",
     "text": [
      "Processed feature columns:\n",
      "          sku       mpn     price  in_stock  currency_INR  brand_109F  \\\n",
      "0  9985402.5  0.161105  4.858500  0.157672             1           0   \n",
      "1  9985402.5  0.161105  2.056882  0.157672             1           0   \n",
      "2  9985402.5  0.161105 -0.261356  0.157672             1           0   \n",
      "3  9985402.5  0.161105  1.957280  0.157672             1           0   \n",
      "4  9985402.5  0.161105 -0.327443  0.157672             1           0   \n",
      "\n",
      "   brand_20Dresses  brand_612 league  brand_7Rainbow  brand_AASK  ...  \\\n",
      "0                0                 0               0           0  ...   \n",
      "1                0                 0               0           0  ...   \n",
      "2                0                 0               0           0  ...   \n",
      "3                0                 0               0           0  ...   \n",
      "4                0                 0               0           0  ...   \n",
      "\n",
      "   description_Yellow wraparound braceletMaterial: FabricClosure: Drawstring  \\\n",
      "0                                                  0                           \n",
      "1                                                  0                           \n",
      "2                                                  0                           \n",
      "3                                                  0                           \n",
      "4                                                  0                           \n",
      "\n",
      "   description_Yellow yoke design straight kurta with threadwork detail, has a round neck, three-quarter sleeves, straight hem, and side slits  \\\n",
      "0                                                  0                                                                                             \n",
      "1                                                  0                                                                                             \n",
      "2                                                  0                                                                                             \n",
      "3                                                  0                                                                                             \n",
      "4                                                  0                                                                                             \n",
      "\n",
      "   description_Yellow, Grey and Black checked casual shirt, has a spread collar, short sleeves, button placket, curved hem, and 1 welt pocket  \\\n",
      "0                                                  0                                                                                            \n",
      "1                                                  0                                                                                            \n",
      "2                                                  0                                                                                            \n",
      "3                                                  0                                                                                            \n",
      "4                                                  0                                                                                            \n",
      "\n",
      "   description_Yellow, beige and white checked smart casual shirt, has a spread collar, short sleeves, button placket, curved hem, and 1 patch pocket  \\\n",
      "0                                                  0                                                                                                    \n",
      "1                                                  0                                                                                                    \n",
      "2                                                  0                                                                                                    \n",
      "3                                                  0                                                                                                    \n",
      "4                                                  0                                                                                                    \n",
      "\n",
      "   description_gunmetal-toned silver-plated circular drop earrings, has artificial stonesSecured with a post and back closure  \\\n",
      "0                                                  0                                                                            \n",
      "1                                                  0                                                                            \n",
      "2                                                  0                                                                            \n",
      "3                                                  0                                                                            \n",
      "4                                                  0                                                                            \n",
      "\n",
      "   description_olive green printed T-shirt, has a round neck, and long sleeves  \\\n",
      "0                                                  0                             \n",
      "1                                                  0                             \n",
      "2                                                  0                             \n",
      "3                                                  0                             \n",
      "4                                                  0                             \n",
      "\n",
      "   description_part of our water-saving washwell program that uses 20% less water than traditional washespremium 1969 non-stretch denimmedium indigo with subtle fading and whiskeringlong sleeves, button cuffspoint collar, button frontbutton-flap patch pockets at chest, slant welt pockets at hipbutton-tabs at rear hem  \\\n",
      "0                                                  0                                                                                                                                                                                                                                                                             \n",
      "1                                                  0                                                                                                                                                                                                                                                                             \n",
      "2                                                  0                                                                                                                                                                                                                                                                             \n",
      "3                                                  0                                                                                                                                                                                                                                                                             \n",
      "4                                                  0                                                                                                                                                                                                                                                                             \n",
      "\n",
      "   description_solid casual shirt, has a spread collar, long sleeves, button placket, curved hem, and 1 patch pocket  \\\n",
      "0                                                  0                                                                   \n",
      "1                                                  0                                                                   \n",
      "2                                                  0                                                                   \n",
      "3                                                  0                                                                   \n",
      "4                                                  0                                                                   \n",
      "\n",
      "   description_yellow, navy blue and white striped T-shirt with embroidered detail, has a polo collar, and short sleeves  \\\n",
      "0                                                  0                                                                       \n",
      "1                                                  0                                                                       \n",
      "2                                                  0                                                                       \n",
      "3                                                  0                                                                       \n",
      "4                                                  0                                                                       \n",
      "\n",
      "   description_Â White and beige printed lehenga choliWhite and beige printed blouse, has shoulder straps.White printed made to measure lehenga, flared hemWhat is Made to Measure?Customised [Article Type] according to your Bust and Length. So please refer to the Size Chart to pick your perfect size.How to measure Lehenga length?Measure from waist till barefoot to find lehenga length in inchesHow to measure bust?Measure under your arms and around your chest to find your bust size in inches  \n",
      "0                                                  0                                                                                                                                                                                                                                                                                                                                                                                                                                                           \n",
      "1                                                  0                                                                                                                                                                                                                                                                                                                                                                                                                                                           \n",
      "2                                                  0                                                                                                                                                                                                                                                                                                                                                                                                                                                           \n",
      "3                                                  0                                                                                                                                                                                                                                                                                                                                                                                                                                                           \n",
      "4                                                  0                                                                                                                                                                                                                                                                                                                                                                                                                                                           \n",
      "\n",
      "[5 rows x 11117 columns]\n"
     ]
    }
   ],
   "source": [
    "def preprocess_features(x):\n",
    "    \n",
    "    # Initialize new output DataFrame\n",
    "    output = pd.DataFrame(index=x.index)\n",
    "\n",
    "    # Investigate each feature column for the data\n",
    "    for col,col_data in x.iteritems():\n",
    "        \n",
    "        #data type is non-numeric, replace all true/false values with 1/0\n",
    "        if col_data.dtype==object:\n",
    "            col_data=col_data.replace(['True', 'False'],[1, 0])\n",
    "        #if col_data.dtype==bool:\n",
    "            #col_data=col_data.replace(['True', 'False'],[1, 0])\n",
    "\n",
    "        #data type is categorical, convert to dummy variables\n",
    "        if col_data.dtype==object:\n",
    "        \n",
    "            col_data =pd.get_dummies(col_data,prefix = col)  \n",
    "        \n",
    "        output = output.join(col_data)\n",
    "    \n",
    "    return output\n",
    "\n",
    "x= preprocess_features(x)\n",
    "x.columns\n",
    "print('Processed feature columns:\\n',x.head())"
   ]
  },
  {
   "cell_type": "code",
   "execution_count": 131,
   "id": "390cd27d",
   "metadata": {},
   "outputs": [
    {
     "data": {
      "text/plain": [
       "Women          5126\n",
       "Men            4591\n",
       "Unisex         1188\n",
       "Boys           1100\n",
       "Girls           440\n",
       "Unisex Kids      46\n",
       "Name: gender, dtype: int64"
      ]
     },
     "execution_count": 131,
     "metadata": {},
     "output_type": "execute_result"
    }
   ],
   "source": [
    "y['gender'].value_counts()"
   ]
  },
  {
   "cell_type": "code",
   "execution_count": 132,
   "id": "56aaa76b",
   "metadata": {},
   "outputs": [],
   "source": [
    "from sklearn.preprocessing import LabelEncoder\n",
    "label_en=LabelEncoder()\n",
    "a=['gender']\n",
    "for i in np.arange(len(a)):\n",
    "    y[a[i]]=label_en.fit_transform(y[a[i]])"
   ]
  },
  {
   "cell_type": "code",
   "execution_count": 133,
   "id": "d3347f03",
   "metadata": {},
   "outputs": [
    {
     "data": {
      "text/html": [
       "<div>\n",
       "<style scoped>\n",
       "    .dataframe tbody tr th:only-of-type {\n",
       "        vertical-align: middle;\n",
       "    }\n",
       "\n",
       "    .dataframe tbody tr th {\n",
       "        vertical-align: top;\n",
       "    }\n",
       "\n",
       "    .dataframe thead th {\n",
       "        text-align: right;\n",
       "    }\n",
       "</style>\n",
       "<table border=\"1\" class=\"dataframe\">\n",
       "  <thead>\n",
       "    <tr style=\"text-align: right;\">\n",
       "      <th></th>\n",
       "      <th>gender</th>\n",
       "    </tr>\n",
       "  </thead>\n",
       "  <tbody>\n",
       "    <tr>\n",
       "      <th>0</th>\n",
       "      <td>3</td>\n",
       "    </tr>\n",
       "    <tr>\n",
       "      <th>1</th>\n",
       "      <td>5</td>\n",
       "    </tr>\n",
       "    <tr>\n",
       "      <th>2</th>\n",
       "      <td>5</td>\n",
       "    </tr>\n",
       "    <tr>\n",
       "      <th>3</th>\n",
       "      <td>2</td>\n",
       "    </tr>\n",
       "    <tr>\n",
       "      <th>4</th>\n",
       "      <td>2</td>\n",
       "    </tr>\n",
       "  </tbody>\n",
       "</table>\n",
       "</div>"
      ],
      "text/plain": [
       "   gender\n",
       "0       3\n",
       "1       5\n",
       "2       5\n",
       "3       2\n",
       "4       2"
      ]
     },
     "execution_count": 133,
     "metadata": {},
     "output_type": "execute_result"
    }
   ],
   "source": [
    "y.head()"
   ]
  },
  {
   "cell_type": "code",
   "execution_count": 136,
   "id": "f7195a18",
   "metadata": {},
   "outputs": [
    {
     "data": {
      "text/plain": [
       "INR    12491\n",
       "Name: currency, dtype: int64"
      ]
     },
     "execution_count": 136,
     "metadata": {},
     "output_type": "execute_result"
    }
   ],
   "source": [
    "#onehot encoding\n",
    "\n",
    "x['currency'].value_counts()"
   ]
  },
  {
   "cell_type": "code",
   "execution_count": 137,
   "id": "373d136f",
   "metadata": {},
   "outputs": [],
   "source": [
    "cur=pd.get_dummies(x['currency'])\n",
    "x=x.drop(['currency'],axis=1)"
   ]
  },
  {
   "cell_type": "code",
   "execution_count": 138,
   "id": "28517ba6",
   "metadata": {},
   "outputs": [
    {
     "data": {
      "text/html": [
       "<div>\n",
       "<style scoped>\n",
       "    .dataframe tbody tr th:only-of-type {\n",
       "        vertical-align: middle;\n",
       "    }\n",
       "\n",
       "    .dataframe tbody tr th {\n",
       "        vertical-align: top;\n",
       "    }\n",
       "\n",
       "    .dataframe thead th {\n",
       "        text-align: right;\n",
       "    }\n",
       "</style>\n",
       "<table border=\"1\" class=\"dataframe\">\n",
       "  <thead>\n",
       "    <tr style=\"text-align: right;\">\n",
       "      <th></th>\n",
       "      <th>sku</th>\n",
       "      <th>mpn</th>\n",
       "      <th>price</th>\n",
       "      <th>in_stock</th>\n",
       "      <th>brand</th>\n",
       "      <th>description</th>\n",
       "    </tr>\n",
       "  </thead>\n",
       "  <tbody>\n",
       "    <tr>\n",
       "      <th>0</th>\n",
       "      <td>9985402.5</td>\n",
       "      <td>9985402.5</td>\n",
       "      <td>11745</td>\n",
       "      <td>True</td>\n",
       "      <td>DKNY</td>\n",
       "      <td>Black and grey printed medium trolley bag, sec...</td>\n",
       "    </tr>\n",
       "    <tr>\n",
       "      <th>1</th>\n",
       "      <td>9985402.5</td>\n",
       "      <td>9985402.5</td>\n",
       "      <td>5810</td>\n",
       "      <td>True</td>\n",
       "      <td>EthnoVogue</td>\n",
       "      <td>Beige &amp; Grey made to measure kurta with churid...</td>\n",
       "    </tr>\n",
       "    <tr>\n",
       "      <th>2</th>\n",
       "      <td>9985402.5</td>\n",
       "      <td>9985402.5</td>\n",
       "      <td>899</td>\n",
       "      <td>True</td>\n",
       "      <td>SPYKAR</td>\n",
       "      <td>Pink coloured wash 5-pocket high-rise cropped ...</td>\n",
       "    </tr>\n",
       "    <tr>\n",
       "      <th>3</th>\n",
       "      <td>9985402.5</td>\n",
       "      <td>9985402.5</td>\n",
       "      <td>5599</td>\n",
       "      <td>True</td>\n",
       "      <td>Raymond</td>\n",
       "      <td>Blue self-design bandhgala suitBlue self-desig...</td>\n",
       "    </tr>\n",
       "    <tr>\n",
       "      <th>4</th>\n",
       "      <td>9985402.5</td>\n",
       "      <td>9985402.5</td>\n",
       "      <td>759</td>\n",
       "      <td>True</td>\n",
       "      <td>Parx</td>\n",
       "      <td>Brown and off-white printed casual shirt, has ...</td>\n",
       "    </tr>\n",
       "  </tbody>\n",
       "</table>\n",
       "</div>"
      ],
      "text/plain": [
       "         sku        mpn  price  in_stock       brand  \\\n",
       "0  9985402.5  9985402.5  11745      True        DKNY   \n",
       "1  9985402.5  9985402.5   5810      True  EthnoVogue   \n",
       "2  9985402.5  9985402.5    899      True      SPYKAR   \n",
       "3  9985402.5  9985402.5   5599      True     Raymond   \n",
       "4  9985402.5  9985402.5    759      True        Parx   \n",
       "\n",
       "                                         description  \n",
       "0  Black and grey printed medium trolley bag, sec...  \n",
       "1  Beige & Grey made to measure kurta with churid...  \n",
       "2  Pink coloured wash 5-pocket high-rise cropped ...  \n",
       "3  Blue self-design bandhgala suitBlue self-desig...  \n",
       "4  Brown and off-white printed casual shirt, has ...  "
      ]
     },
     "execution_count": 138,
     "metadata": {},
     "output_type": "execute_result"
    }
   ],
   "source": [
    "x.head()"
   ]
  },
  {
   "cell_type": "code",
   "execution_count": 99,
   "id": "82646814",
   "metadata": {},
   "outputs": [
    {
     "data": {
      "text/plain": [
       "(12491, 5)"
      ]
     },
     "execution_count": 99,
     "metadata": {},
     "output_type": "execute_result"
    }
   ],
   "source": [
    "x.shape"
   ]
  },
  {
   "cell_type": "markdown",
   "id": "4800c545",
   "metadata": {},
   "source": [
    "Insight:we handled the non numeric values present in dataset by converting it into 1 and 0.and the categorical values, convert to dummy variables."
   ]
  },
  {
   "cell_type": "code",
   "execution_count": 139,
   "id": "e1d51b3b",
   "metadata": {},
   "outputs": [
    {
     "data": {
      "image/png": "[encoded data removed]",
      "text/plain": [
       "<Figure size 720x360 with 2 Axes>"
      ]
     },
     "metadata": {
      "needs_background": "light"
     },
     "output_type": "display_data"
    }
   ],
   "source": [
    "#Feature reduction\n",
    "\n",
    "plt.figure(figsize=(10,5))\n",
    "corrmatrix=x.corr()\n",
    "sns.heatmap(corrmatrix,annot=True)\n",
    "plt.show()"
   ]
  },
  {
   "cell_type": "code",
   "execution_count": 140,
   "id": "b073ae66",
   "metadata": {},
   "outputs": [],
   "source": [
    "x.drop(['sku'],axis=1,inplace=True)"
   ]
  },
  {
   "cell_type": "code",
   "execution_count": 141,
   "id": "5434ef70",
   "metadata": {},
   "outputs": [
    {
     "data": {
      "text/plain": [
       "Index(['mpn', 'price', 'in_stock', 'brand', 'description'], dtype='object')"
      ]
     },
     "execution_count": 141,
     "metadata": {},
     "output_type": "execute_result"
    }
   ],
   "source": [
    "x.columns"
   ]
  },
  {
   "cell_type": "markdown",
   "id": "4ecb5d94",
   "metadata": {},
   "source": [
    "Insight: In feature reduction, we plot the correlationmatrix.In correlation,we can see that sku is highly correlated,so we dropped the sku feature."
   ]
  },
  {
   "cell_type": "code",
   "execution_count": 142,
   "id": "f2e3fbd0",
   "metadata": {},
   "outputs": [
    {
     "data": {
      "text/html": [
       "<div>\n",
       "<style scoped>\n",
       "    .dataframe tbody tr th:only-of-type {\n",
       "        vertical-align: middle;\n",
       "    }\n",
       "\n",
       "    .dataframe tbody tr th {\n",
       "        vertical-align: top;\n",
       "    }\n",
       "\n",
       "    .dataframe thead th {\n",
       "        text-align: right;\n",
       "    }\n",
       "</style>\n",
       "<table border=\"1\" class=\"dataframe\">\n",
       "  <thead>\n",
       "    <tr style=\"text-align: right;\">\n",
       "      <th></th>\n",
       "      <th>mpn</th>\n",
       "      <th>price</th>\n",
       "    </tr>\n",
       "  </thead>\n",
       "  <tbody>\n",
       "    <tr>\n",
       "      <th>count</th>\n",
       "      <td>1.249100e+04</td>\n",
       "      <td>12491.000000</td>\n",
       "    </tr>\n",
       "    <tr>\n",
       "      <th>mean</th>\n",
       "      <td>9.981519e+06</td>\n",
       "      <td>1452.660956</td>\n",
       "    </tr>\n",
       "    <tr>\n",
       "      <th>std</th>\n",
       "      <td>2.410513e+04</td>\n",
       "      <td>2118.503976</td>\n",
       "    </tr>\n",
       "    <tr>\n",
       "      <th>min</th>\n",
       "      <td>9.831902e+06</td>\n",
       "      <td>90.000000</td>\n",
       "    </tr>\n",
       "    <tr>\n",
       "      <th>25%</th>\n",
       "      <td>9.985402e+06</td>\n",
       "      <td>649.000000</td>\n",
       "    </tr>\n",
       "    <tr>\n",
       "      <th>50%</th>\n",
       "      <td>9.985402e+06</td>\n",
       "      <td>920.000000</td>\n",
       "    </tr>\n",
       "    <tr>\n",
       "      <th>75%</th>\n",
       "      <td>9.985402e+06</td>\n",
       "      <td>1499.000000</td>\n",
       "    </tr>\n",
       "    <tr>\n",
       "      <th>max</th>\n",
       "      <td>9.985402e+06</td>\n",
       "      <td>63090.000000</td>\n",
       "    </tr>\n",
       "  </tbody>\n",
       "</table>\n",
       "</div>"
      ],
      "text/plain": [
       "                mpn         price\n",
       "count  1.249100e+04  12491.000000\n",
       "mean   9.981519e+06   1452.660956\n",
       "std    2.410513e+04   2118.503976\n",
       "min    9.831902e+06     90.000000\n",
       "25%    9.985402e+06    649.000000\n",
       "50%    9.985402e+06    920.000000\n",
       "75%    9.985402e+06   1499.000000\n",
       "max    9.985402e+06  63090.000000"
      ]
     },
     "execution_count": 142,
     "metadata": {},
     "output_type": "execute_result"
    }
   ],
   "source": [
    "#Standardization\n",
    "#Standard scaling\n",
    "\n",
    "x.describe()\n",
    "#type(x)"
   ]
  },
  {
   "cell_type": "code",
   "execution_count": 143,
   "id": "73986108",
   "metadata": {},
   "outputs": [
    {
     "data": {
      "text/html": [
       "<div>\n",
       "<style scoped>\n",
       "    .dataframe tbody tr th:only-of-type {\n",
       "        vertical-align: middle;\n",
       "    }\n",
       "\n",
       "    .dataframe tbody tr th {\n",
       "        vertical-align: top;\n",
       "    }\n",
       "\n",
       "    .dataframe thead th {\n",
       "        text-align: right;\n",
       "    }\n",
       "</style>\n",
       "<table border=\"1\" class=\"dataframe\">\n",
       "  <thead>\n",
       "    <tr style=\"text-align: right;\">\n",
       "      <th></th>\n",
       "      <th>mpn</th>\n",
       "      <th>price</th>\n",
       "      <th>in_stock</th>\n",
       "    </tr>\n",
       "  </thead>\n",
       "  <tbody>\n",
       "    <tr>\n",
       "      <th>0</th>\n",
       "      <td>0.161105</td>\n",
       "      <td>4.858500</td>\n",
       "      <td>0.157672</td>\n",
       "    </tr>\n",
       "    <tr>\n",
       "      <th>1</th>\n",
       "      <td>0.161105</td>\n",
       "      <td>2.056882</td>\n",
       "      <td>0.157672</td>\n",
       "    </tr>\n",
       "    <tr>\n",
       "      <th>2</th>\n",
       "      <td>0.161105</td>\n",
       "      <td>-0.261356</td>\n",
       "      <td>0.157672</td>\n",
       "    </tr>\n",
       "    <tr>\n",
       "      <th>3</th>\n",
       "      <td>0.161105</td>\n",
       "      <td>1.957280</td>\n",
       "      <td>0.157672</td>\n",
       "    </tr>\n",
       "    <tr>\n",
       "      <th>4</th>\n",
       "      <td>0.161105</td>\n",
       "      <td>-0.327443</td>\n",
       "      <td>0.157672</td>\n",
       "    </tr>\n",
       "  </tbody>\n",
       "</table>\n",
       "</div>"
      ],
      "text/plain": [
       "        mpn     price  in_stock\n",
       "0  0.161105  4.858500  0.157672\n",
       "1  0.161105  2.056882  0.157672\n",
       "2  0.161105 -0.261356  0.157672\n",
       "3  0.161105  1.957280  0.157672\n",
       "4  0.161105 -0.327443  0.157672"
      ]
     },
     "execution_count": 143,
     "metadata": {},
     "output_type": "execute_result"
    }
   ],
   "source": [
    "from sklearn.preprocessing import StandardScaler\n",
    "col_scale=['mpn','price','in_stock']\n",
    "scalar=StandardScaler()\n",
    "data[col_scale]=scaler.fit_transform(data[col_scale])\n",
    "data[col_scale].head()"
   ]
  },
  {
   "cell_type": "markdown",
   "id": "be9e4a7b",
   "metadata": {},
   "source": [
    "Insight:Rescaling the feature values"
   ]
  },
  {
   "cell_type": "markdown",
   "id": "aa8fb491",
   "metadata": {},
   "source": [
    "# 3.EDA(Exploratory Data Analysis)"
   ]
  },
  {
   "cell_type": "code",
   "execution_count": null,
   "id": "1c1d9133",
   "metadata": {},
   "outputs": [],
   "source": [
    "#1.Univarient analysis"
   ]
  },
  {
   "cell_type": "code",
   "execution_count": 57,
   "id": "ee52aee4",
   "metadata": {},
   "outputs": [
    {
     "data": {
      "image/png": "[encoded data removed]",
      "text/plain": [
       "<Figure size 720x360 with 2 Axes>"
      ]
     },
     "metadata": {
      "needs_background": "light"
     },
     "output_type": "display_data"
    }
   ],
   "source": [
    "plt.figure(figsize = (10, 5))\n",
    "plt.subplot(1, 2, 1)\n",
    "sns.countplot(x = data['mpn'], data = x)\n",
    "\n",
    "plt.subplot(1, 2, 2)\n",
    "plt.pie(x= x['mpn'].value_counts(), labels = (\"1\",\"0\"), explode = (0, 0.08), shadow = True, autopct = '%1.2f%%')\n",
    "\n",
    "plt.show()"
   ]
  },
  {
   "cell_type": "code",
   "execution_count": 218,
   "id": "3529fe2d",
   "metadata": {},
   "outputs": [
    {
     "data": {
      "text/plain": [
       "Index(['name', 'sku', 'mpn', 'price', 'in_stock', 'currency', 'brand',\n",
       "       'description', 'images', 'gender'],\n",
       "      dtype='object')"
      ]
     },
     "execution_count": 218,
     "metadata": {},
     "output_type": "execute_result"
    }
   ],
   "source": [
    "data.columns"
   ]
  },
  {
   "cell_type": "code",
   "execution_count": 228,
   "id": "3a26daaa",
   "metadata": {},
   "outputs": [
    {
     "data": {
      "image/png": "[encoded data removed]",
      "text/plain": [
       "<Figure size 720x576 with 1 Axes>"
      ]
     },
     "metadata": {
      "needs_background": "light"
     },
     "output_type": "display_data"
    }
   ],
   "source": [
    "#Univarient analysis\n",
    "plt.figure(figsize=(10,8))\n",
    "data.groupby(['brand','gender'])['price'].sum().sort_values(ascending=False).plot()\n",
    "\n",
    "plt.grid()\n",
    "plt.xlabel(\"Brand,Gender\",fontsize=15)\n",
    "plt.ylabel(\"price\",fontsize=15)\n",
    "plt.title('Amount spend for purchasing each brand ',fontsize=20);"
   ]
  },
  {
   "cell_type": "code",
   "execution_count": 229,
   "id": "d1980290",
   "metadata": {},
   "outputs": [
    {
     "data": {
      "text/plain": [
       "<Figure size 720x144 with 0 Axes>"
      ]
     },
     "metadata": {},
     "output_type": "display_data"
    },
    {
     "data": {
      "image/png": "[encoded data removed]",
      "text/plain": [
       "<Figure size 1152x576 with 1 Axes>"
      ]
     },
     "metadata": {
      "needs_background": "light"
     },
     "output_type": "display_data"
    }
   ],
   "source": [
    "\n",
    "plt.figure(figsize=(10,2))\n",
    "data[['brand', 'gender', 'price', 'mpn']].groupby('gender').mean().sort_values('price').plot.bar(width=0.5,edgecolor='k',align='center',stacked=True,figsize=(16,8));\n",
    "plt.xlabel('gender',fontsize=15)\n",
    "plt.ylabel('price ',fontsize=15)\n",
    "plt.title('Purchasing in Myntra',fontsize=25)\n",
    "plt.grid();"
   ]
  },
  {
   "cell_type": "markdown",
   "id": "052b86cf",
   "metadata": {},
   "source": [
    "Insight:In univarient we have used one variable for analysing the reset of the variables"
   ]
  },
  {
   "cell_type": "code",
   "execution_count": 225,
   "id": "10892e28",
   "metadata": {},
   "outputs": [
    {
     "data": {
      "image/png": "[encoded data removed]",
      "text/plain": [
       "<Figure size 720x720 with 2 Axes>"
      ]
     },
     "metadata": {
      "needs_background": "light"
     },
     "output_type": "display_data"
    }
   ],
   "source": [
    "#Bivarient analysis\n",
    "\n",
    "fig=plt.gcf()\n",
    "fig.set_size_inches(10,10)\n",
    "fig=sns.heatmap(data.corr(),annot=True,linewidths=1,linecolor='k',square=True,mask=False, vmin=-1, vmax=1,cbar_kws={\"orientation\": \"vertical\"},cbar=True)"
   ]
  },
  {
   "cell_type": "markdown",
   "id": "0157c699",
   "metadata": {},
   "source": [
    "Insight:In Bivarient,we have used two variables for analysing the reset of the variables,and we have came to the conclusion that,sku is having the highest correlation."
   ]
  },
  {
   "cell_type": "markdown",
   "id": "45eb37c1",
   "metadata": {},
   "source": [
    "# 4 Modeling"
   ]
  },
  {
   "cell_type": "markdown",
   "id": "00428b90",
   "metadata": {},
   "source": [
    "#Using some of the commonly used algorithms, we will be training our model to check how accurate every algorithm is. We will be implementing these algorithms to compare:\n",
    "\n",
    "#1 LogisticRegression\n",
    "\n",
    "#2 K–NearestNeighbour (KNN)\n",
    "\n",
    "#3 Support Vector Machine (SVM)\n",
    "\n",
    "#4 Decision Trees\n",
    "\n",
    "#5 RandomForest"
   ]
  },
  {
   "cell_type": "code",
   "execution_count": null,
   "id": "e14d2752",
   "metadata": {},
   "outputs": [],
   "source": [
    "#spliting data"
   ]
  },
  {
   "cell_type": "code",
   "execution_count": 198,
   "id": "a565feca",
   "metadata": {},
   "outputs": [],
   "source": [
    "x=data.drop(['images','name','description','in_stock','brand','currency','gender'],axis=1)\n",
    "y=pd.DataFrame(data['gender'])"
   ]
  },
  {
   "cell_type": "code",
   "execution_count": 155,
   "id": "8f241977",
   "metadata": {},
   "outputs": [],
   "source": [
    "from sklearn.model_selection import train_test_split\n",
    "x_train,x_test,y_train,y_test=train_test_split(x,y,test_size=0.3,random_state=2)"
   ]
  },
  {
   "cell_type": "code",
   "execution_count": 156,
   "id": "fa83eff6",
   "metadata": {},
   "outputs": [
    {
     "data": {
      "text/plain": [
       "(8743, 3)"
      ]
     },
     "execution_count": 156,
     "metadata": {},
     "output_type": "execute_result"
    }
   ],
   "source": [
    "x_train.shape"
   ]
  },
  {
   "cell_type": "code",
   "execution_count": 158,
   "id": "dd9e4ec6",
   "metadata": {},
   "outputs": [
    {
     "data": {
      "text/plain": [
       "(8743, 1)"
      ]
     },
     "execution_count": 158,
     "metadata": {},
     "output_type": "execute_result"
    }
   ],
   "source": [
    "y_train.shape"
   ]
  },
  {
   "cell_type": "code",
   "execution_count": 159,
   "id": "6effc2fe",
   "metadata": {},
   "outputs": [
    {
     "data": {
      "text/plain": [
       "(3748, 3)"
      ]
     },
     "execution_count": 159,
     "metadata": {},
     "output_type": "execute_result"
    }
   ],
   "source": [
    "x_test.shape"
   ]
  },
  {
   "cell_type": "code",
   "execution_count": 160,
   "id": "4243ee50",
   "metadata": {},
   "outputs": [
    {
     "data": {
      "text/plain": [
       "(3748, 1)"
      ]
     },
     "execution_count": 160,
     "metadata": {},
     "output_type": "execute_result"
    }
   ],
   "source": [
    "y_test.shape"
   ]
  },
  {
   "cell_type": "code",
   "execution_count": 161,
   "id": "1320518f",
   "metadata": {},
   "outputs": [
    {
     "data": {
      "text/plain": [
       "Index(['sku', 'mpn', 'price'], dtype='object')"
      ]
     },
     "execution_count": 161,
     "metadata": {},
     "output_type": "execute_result"
    }
   ],
   "source": [
    "x.columns"
   ]
  },
  {
   "cell_type": "code",
   "execution_count": null,
   "id": "a9a6ee39",
   "metadata": {},
   "outputs": [],
   "source": [
    "#build model"
   ]
  },
  {
   "cell_type": "code",
   "execution_count": 184,
   "id": "c094a94c",
   "metadata": {},
   "outputs": [],
   "source": [
    "# Import the three supervised learning models from sklearn\n",
    "\n",
    "from sklearn import svm\n",
    "from sklearn.svm import SVC\n",
    "from sklearn.ensemble import RandomForestClassifier\n",
    "from sklearn.metrics import classification_report\n",
    "from sklearn.linear_model import LogisticRegression\n",
    "from sklearn.metrics import accuracy_score"
   ]
  },
  {
   "cell_type": "code",
   "execution_count": 185,
   "id": "5eb066af",
   "metadata": {},
   "outputs": [
    {
     "name": "stderr",
     "output_type": "stream",
     "text": [
      "C:\\Users\\Seethal\\anaconda3\\lib\\site-packages\\sklearn\\utils\\validation.py:63: DataConversionWarning: A column-vector y was passed when a 1d array was expected. Please change the shape of y to (n_samples, ), for example using ravel().\n",
      "  return f(*args, **kwargs)\n"
     ]
    },
    {
     "data": {
      "text/plain": [
       "SVC()"
      ]
     },
     "execution_count": 185,
     "metadata": {},
     "output_type": "execute_result"
    }
   ],
   "source": [
    "#1.Support Vector Machine model\n",
    "\n",
    "svm=SVC()\n",
    "svm.fit(x_train,y_train)"
   ]
  },
  {
   "cell_type": "code",
   "execution_count": 187,
   "id": "69df2ade",
   "metadata": {},
   "outputs": [
    {
     "name": "stdout",
     "output_type": "stream",
     "text": [
      "Accuracy is: 0.40795090715048027\n",
      "confusion matrix:\n",
      " [[   0    0    0    0    0  327]\n",
      " [   0    0    0    0    0  130]\n",
      " [   0    0    0    0    0 1373]\n",
      " [   0    0    0    0    0  371]\n",
      " [   0    0    0    0    0   18]\n",
      " [   0    0    0    0    0 1529]]\n"
     ]
    }
   ],
   "source": [
    "y_pred=svm.predict(x_test)\n",
    "print('Accuracy is:',accuracy_score(y_pred,y_test))\n",
    "print('confusion matrix:\\n',confusion_matrix(y_test,y_pred))"
   ]
  },
  {
   "cell_type": "code",
   "execution_count": 181,
   "id": "266cbe9f",
   "metadata": {},
   "outputs": [
    {
     "name": "stderr",
     "output_type": "stream",
     "text": [
      "<ipython-input-181-d57ceac264ff>:8: DataConversionWarning: A column-vector y was passed when a 1d array was expected. Please change the shape of y to (n_samples,), for example using ravel().\n",
      "  clf.fit(x_train,y_train)\n"
     ]
    }
   ],
   "source": [
    "# 2.Random Forest Model\n",
    "\n",
    "\n",
    "from sklearn.ensemble import RandomForestClassifier\n",
    "\n",
    "#Create a Gaussian Classifier\n",
    "clf=RandomForestClassifier()\n",
    "\n",
    "#Train the model using the training sets y_pred=clf.predict(x_test)\n",
    "clf.fit(x_train,y_train)\n",
    "\n",
    "y_pred=clf.predict(x_test)"
   ]
  },
  {
   "cell_type": "code",
   "execution_count": 182,
   "id": "7d097d31",
   "metadata": {},
   "outputs": [
    {
     "name": "stdout",
     "output_type": "stream",
     "text": [
      "Accuracy: 0.5186766275346851\n",
      "confusion matrix:\n",
      " [[ 64   7 148   3   0 105]\n",
      " [ 20   3  63   1   0  43]\n",
      " [ 49  11 905  35   0 373]\n",
      " [ 21   4 133 106   0 107]\n",
      " [  0   1   8   2   2   5]\n",
      " [ 68  25 508  64   0 864]]\n"
     ]
    }
   ],
   "source": [
    "from sklearn import metrics\n",
    "print(\"Accuracy:\",metrics.accuracy_score(y_test, y_pred))\n",
    "print('confusion matrix:\\n',confusion_matrix(y_test,y_pred))"
   ]
  },
  {
   "cell_type": "code",
   "execution_count": 173,
   "id": "9c656432",
   "metadata": {},
   "outputs": [
    {
     "name": "stderr",
     "output_type": "stream",
     "text": [
      "C:\\Users\\Seethal\\anaconda3\\lib\\site-packages\\sklearn\\utils\\validation.py:63: DataConversionWarning: A column-vector y was passed when a 1d array was expected. Please change the shape of y to (n_samples, ), for example using ravel().\n",
      "  return f(*args, **kwargs)\n"
     ]
    },
    {
     "name": "stdout",
     "output_type": "stream",
     "text": [
      "Accuracy: 0.40795090715048027\n"
     ]
    }
   ],
   "source": [
    "# 3. Logistic regression model\n",
    "\n",
    "lr=LogisticRegression()\n",
    "lr.fit(x_train,y_train)\n",
    "\n",
    "#predict on the test data\n",
    "y_pred=lr.predict(x_test)\n",
    "\n",
    "#calculate the accuracy score\n",
    "print('Accuracy:',accuracy_score(y_pred,y_test))"
   ]
  },
  {
   "cell_type": "code",
   "execution_count": 174,
   "id": "d5e3b131",
   "metadata": {},
   "outputs": [
    {
     "name": "stdout",
     "output_type": "stream",
     "text": [
      "              precision    recall  f1-score   support\n",
      "\n",
      "        Boys       0.29      0.22      0.25       327\n",
      "       Girls       0.07      0.02      0.03       130\n",
      "         Men       0.51      0.68      0.58      1373\n",
      "      Unisex       0.49      0.30      0.37       371\n",
      " Unisex Kids       1.00      0.11      0.20        18\n",
      "       Women       0.59      0.54      0.56      1529\n",
      "\n",
      "    accuracy                           0.52      3748\n",
      "   macro avg       0.49      0.31      0.33      3748\n",
      "weighted avg       0.51      0.52      0.50      3748\n",
      "\n",
      "confusion_matrix:\n",
      " [[ 71   3 150   3   0 100]\n",
      " [ 21   3  64   2   0  40]\n",
      " [ 51  14 927  37   0 344]\n",
      " [ 21   5 147 110   0  88]\n",
      " [  2   1   9   0   2   4]\n",
      " [ 82  20 532  72   0 823]]\n",
      "accuracy is 0.5165421558164355\n"
     ]
    }
   ],
   "source": [
    "#4.Decision Tree model\n",
    "\n",
    "from sklearn.tree import DecisionTreeClassifier\n",
    "\n",
    "classifier = DecisionTreeClassifier()\n",
    "\n",
    "classifier.fit(x_train, y_train)\n",
    "\n",
    "y_pred = classifier.predict(x_test)\n",
    "\n",
    "# Summary of the predictions made by the classifier\n",
    "print(classification_report(y_test, y_pred))\n",
    "print('confusion_matrix:\\n',confusion_matrix(y_test, y_pred))\n",
    "# Accuracy score\n",
    "from sklearn.metrics import accuracy_score\n",
    "print('accuracy is',accuracy_score(y_pred,y_test))"
   ]
  },
  {
   "cell_type": "code",
   "execution_count": 189,
   "id": "01f87441",
   "metadata": {},
   "outputs": [
    {
     "name": "stderr",
     "output_type": "stream",
     "text": [
      "C:\\Users\\Seethal\\anaconda3\\lib\\site-packages\\sklearn\\neighbors\\_classification.py:179: DataConversionWarning: A column-vector y was passed when a 1d array was expected. Please change the shape of y to (n_samples,), for example using ravel().\n",
      "  return self._fit(X, y)\n",
      "C:\\Users\\Seethal\\anaconda3\\lib\\site-packages\\sklearn\\metrics\\_classification.py:1245: UndefinedMetricWarning: Precision and F-score are ill-defined and being set to 0.0 in labels with no predicted samples. Use `zero_division` parameter to control this behavior.\n",
      "  _warn_prf(average, modifier, msg_start, len(result))\n",
      "C:\\Users\\Seethal\\anaconda3\\lib\\site-packages\\sklearn\\metrics\\_classification.py:1245: UndefinedMetricWarning: Precision and F-score are ill-defined and being set to 0.0 in labels with no predicted samples. Use `zero_division` parameter to control this behavior.\n",
      "  _warn_prf(average, modifier, msg_start, len(result))\n",
      "C:\\Users\\Seethal\\anaconda3\\lib\\site-packages\\sklearn\\metrics\\_classification.py:1245: UndefinedMetricWarning: Precision and F-score are ill-defined and being set to 0.0 in labels with no predicted samples. Use `zero_division` parameter to control this behavior.\n",
      "  _warn_prf(average, modifier, msg_start, len(result))\n"
     ]
    },
    {
     "name": "stdout",
     "output_type": "stream",
     "text": [
      "              precision    recall  f1-score   support\n",
      "\n",
      "        Boys       0.27      0.21      0.24       327\n",
      "       Girls       0.08      0.04      0.05       130\n",
      "         Men       0.47      0.64      0.54      1373\n",
      "      Unisex       0.45      0.18      0.26       371\n",
      " Unisex Kids       0.00      0.00      0.00        18\n",
      "       Women       0.55      0.50      0.53      1529\n",
      "\n",
      "    accuracy                           0.48      3748\n",
      "   macro avg       0.30      0.26      0.27      3748\n",
      "weighted avg       0.47      0.48      0.46      3748\n",
      "\n",
      "confusion_matrix:\n",
      " [[ 70  10 145   5   0  97]\n",
      " [ 27   5  59   2   0  37]\n",
      " [ 65  19 872  27   0 390]\n",
      " [ 21   3 179  67   0 101]\n",
      " [  0   1   8   1   0   8]\n",
      " [ 81  26 604  47   0 771]]\n",
      "accuracy is 0.4762540021344717\n"
     ]
    }
   ],
   "source": [
    "# 5.K-Nearest Neighbors model\n",
    "\n",
    "from sklearn.neighbors import KNeighborsClassifier\n",
    "\n",
    "classifier = KNeighborsClassifier(n_neighbors=12)\n",
    "classifier.fit(x_train, y_train)\n",
    "\n",
    "y_pred = classifier.predict(x_test)\n",
    "\n",
    "# Summary of the predictions made by the classifier\n",
    "print(classification_report(y_test, y_pred))\n",
    "print('confusion_matrix:\\n',confusion_matrix(y_test, y_pred))\n",
    "# Accuracy score\n",
    "from sklearn.metrics import accuracy_score\n",
    "print('accuracy is',accuracy_score(y_pred,y_test))"
   ]
  },
  {
   "cell_type": "markdown",
   "id": "85c7e4eb",
   "metadata": {},
   "source": [
    "Insight:RandomForest model appears a high score of accuracy."
   ]
  },
  {
   "cell_type": "markdown",
   "id": "10b506e0",
   "metadata": {},
   "source": [
    "# 5 Model Fine Tuning"
   ]
  },
  {
   "cell_type": "code",
   "execution_count": 209,
   "id": "c6cbc3da",
   "metadata": {},
   "outputs": [
    {
     "data": {
      "text/plain": [
       "0.2371996377866175"
      ]
     },
     "execution_count": 209,
     "metadata": {},
     "output_type": "execute_result"
    }
   ],
   "source": [
    "rft=RandomForestClassifier(n_estimators=850,max_depth=100,random_state=30,criterion='entropy',max_features='sqrt')\n",
    "rft.fit(x_train,y_train)\n",
    "y_pred=rft.predict(x_test)\n",
    "f1_score(y_test,y_pred,average='weighted')"
   ]
  },
  {
   "cell_type": "markdown",
   "id": "116202e8",
   "metadata": {},
   "source": [
    "Insight:To increase in accuracy,we have used hyperparameter tuning."
   ]
  },
  {
   "cell_type": "code",
   "execution_count": null,
   "id": "79f38805",
   "metadata": {},
   "outputs": [],
   "source": []
  }
 ],
 "metadata": {
  "kernelspec": {
   "display_name": "Python 3",
   "language": "python",
   "name": "python3"
  },
  "language_info": {
   "codemirror_mode": {
    "name": "ipython",
    "version": 3
   },
   "file_extension": ".py",
   "mimetype": "text/x-python",
   "name": "python",
   "nbconvert_exporter": "python",
   "pygments_lexer": "ipython3",
   "version": "3.8.8"
  }
 },
 "nbformat": 4,
 "nbformat_minor": 5
}
